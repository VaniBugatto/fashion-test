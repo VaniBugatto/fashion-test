{
 "cells": [
  {
   "cell_type": "code",
   "execution_count": 1,
   "id": "65625edf-67d8-4d5d-92e7-8592ca9f8ff6",
   "metadata": {
    "scrolled": true
   },
   "outputs": [
    {
     "name": "stdout",
     "output_type": "stream",
     "text": [
      "Requirement already satisfied: tensorflow in /home/vanina/.pyenv/versions/3.10.6/envs/fashion-test/lib/python3.10/site-packages (2.19.0)\n",
      "Requirement already satisfied: absl-py>=1.0.0 in /home/vanina/.pyenv/versions/3.10.6/envs/fashion-test/lib/python3.10/site-packages (from tensorflow) (2.2.2)\n",
      "Requirement already satisfied: astunparse>=1.6.0 in /home/vanina/.pyenv/versions/3.10.6/envs/fashion-test/lib/python3.10/site-packages (from tensorflow) (1.6.3)\n",
      "Requirement already satisfied: flatbuffers>=24.3.25 in /home/vanina/.pyenv/versions/3.10.6/envs/fashion-test/lib/python3.10/site-packages (from tensorflow) (25.2.10)\n",
      "Requirement already satisfied: gast!=0.5.0,!=0.5.1,!=0.5.2,>=0.2.1 in /home/vanina/.pyenv/versions/3.10.6/envs/fashion-test/lib/python3.10/site-packages (from tensorflow) (0.6.0)\n",
      "Requirement already satisfied: google-pasta>=0.1.1 in /home/vanina/.pyenv/versions/3.10.6/envs/fashion-test/lib/python3.10/site-packages (from tensorflow) (0.2.0)\n",
      "Requirement already satisfied: libclang>=13.0.0 in /home/vanina/.pyenv/versions/3.10.6/envs/fashion-test/lib/python3.10/site-packages (from tensorflow) (18.1.1)\n",
      "Requirement already satisfied: opt-einsum>=2.3.2 in /home/vanina/.pyenv/versions/3.10.6/envs/fashion-test/lib/python3.10/site-packages (from tensorflow) (3.4.0)\n",
      "Requirement already satisfied: packaging in /home/vanina/.pyenv/versions/3.10.6/envs/fashion-test/lib/python3.10/site-packages (from tensorflow) (25.0)\n",
      "Requirement already satisfied: protobuf!=4.21.0,!=4.21.1,!=4.21.2,!=4.21.3,!=4.21.4,!=4.21.5,<6.0.0dev,>=3.20.3 in /home/vanina/.pyenv/versions/3.10.6/envs/fashion-test/lib/python3.10/site-packages (from tensorflow) (5.29.4)\n",
      "Requirement already satisfied: requests<3,>=2.21.0 in /home/vanina/.pyenv/versions/3.10.6/envs/fashion-test/lib/python3.10/site-packages (from tensorflow) (2.32.3)\n",
      "Requirement already satisfied: setuptools in /home/vanina/.pyenv/versions/3.10.6/envs/fashion-test/lib/python3.10/site-packages (from tensorflow) (63.2.0)\n",
      "Requirement already satisfied: six>=1.12.0 in /home/vanina/.pyenv/versions/3.10.6/envs/fashion-test/lib/python3.10/site-packages (from tensorflow) (1.17.0)\n",
      "Requirement already satisfied: termcolor>=1.1.0 in /home/vanina/.pyenv/versions/3.10.6/envs/fashion-test/lib/python3.10/site-packages (from tensorflow) (3.0.1)\n",
      "Requirement already satisfied: typing-extensions>=3.6.6 in /home/vanina/.pyenv/versions/3.10.6/envs/fashion-test/lib/python3.10/site-packages (from tensorflow) (4.13.2)\n",
      "Requirement already satisfied: wrapt>=1.11.0 in /home/vanina/.pyenv/versions/3.10.6/envs/fashion-test/lib/python3.10/site-packages (from tensorflow) (1.17.2)\n",
      "Requirement already satisfied: grpcio<2.0,>=1.24.3 in /home/vanina/.pyenv/versions/3.10.6/envs/fashion-test/lib/python3.10/site-packages (from tensorflow) (1.71.0)\n",
      "Requirement already satisfied: tensorboard~=2.19.0 in /home/vanina/.pyenv/versions/3.10.6/envs/fashion-test/lib/python3.10/site-packages (from tensorflow) (2.19.0)\n",
      "Requirement already satisfied: keras>=3.5.0 in /home/vanina/.pyenv/versions/3.10.6/envs/fashion-test/lib/python3.10/site-packages (from tensorflow) (3.9.2)\n",
      "Requirement already satisfied: numpy<2.2.0,>=1.26.0 in /home/vanina/.pyenv/versions/3.10.6/envs/fashion-test/lib/python3.10/site-packages (from tensorflow) (2.1.3)\n",
      "Requirement already satisfied: h5py>=3.11.0 in /home/vanina/.pyenv/versions/3.10.6/envs/fashion-test/lib/python3.10/site-packages (from tensorflow) (3.13.0)\n",
      "Requirement already satisfied: ml-dtypes<1.0.0,>=0.5.1 in /home/vanina/.pyenv/versions/3.10.6/envs/fashion-test/lib/python3.10/site-packages (from tensorflow) (0.5.1)\n",
      "Requirement already satisfied: tensorflow-io-gcs-filesystem>=0.23.1 in /home/vanina/.pyenv/versions/3.10.6/envs/fashion-test/lib/python3.10/site-packages (from tensorflow) (0.37.1)\n",
      "Requirement already satisfied: charset-normalizer<4,>=2 in /home/vanina/.pyenv/versions/3.10.6/envs/fashion-test/lib/python3.10/site-packages (from requests<3,>=2.21.0->tensorflow) (3.4.1)\n",
      "Requirement already satisfied: idna<4,>=2.5 in /home/vanina/.pyenv/versions/3.10.6/envs/fashion-test/lib/python3.10/site-packages (from requests<3,>=2.21.0->tensorflow) (3.10)\n",
      "Requirement already satisfied: urllib3<3,>=1.21.1 in /home/vanina/.pyenv/versions/3.10.6/envs/fashion-test/lib/python3.10/site-packages (from requests<3,>=2.21.0->tensorflow) (2.4.0)\n",
      "Requirement already satisfied: certifi>=2017.4.17 in /home/vanina/.pyenv/versions/3.10.6/envs/fashion-test/lib/python3.10/site-packages (from requests<3,>=2.21.0->tensorflow) (2025.4.26)\n",
      "Requirement already satisfied: markdown>=2.6.8 in /home/vanina/.pyenv/versions/3.10.6/envs/fashion-test/lib/python3.10/site-packages (from tensorboard~=2.19.0->tensorflow) (3.8)\n",
      "Requirement already satisfied: tensorboard-data-server<0.8.0,>=0.7.0 in /home/vanina/.pyenv/versions/3.10.6/envs/fashion-test/lib/python3.10/site-packages (from tensorboard~=2.19.0->tensorflow) (0.7.2)\n",
      "Requirement already satisfied: werkzeug>=1.0.1 in /home/vanina/.pyenv/versions/3.10.6/envs/fashion-test/lib/python3.10/site-packages (from tensorboard~=2.19.0->tensorflow) (3.1.3)\n",
      "Requirement already satisfied: wheel<1.0,>=0.23.0 in /home/vanina/.pyenv/versions/3.10.6/envs/fashion-test/lib/python3.10/site-packages (from astunparse>=1.6.0->tensorflow) (0.45.1)\n",
      "Requirement already satisfied: rich in /home/vanina/.pyenv/versions/3.10.6/envs/fashion-test/lib/python3.10/site-packages (from keras>=3.5.0->tensorflow) (14.0.0)\n",
      "Requirement already satisfied: namex in /home/vanina/.pyenv/versions/3.10.6/envs/fashion-test/lib/python3.10/site-packages (from keras>=3.5.0->tensorflow) (0.0.9)\n",
      "Requirement already satisfied: optree in /home/vanina/.pyenv/versions/3.10.6/envs/fashion-test/lib/python3.10/site-packages (from keras>=3.5.0->tensorflow) (0.15.0)\n",
      "Requirement already satisfied: MarkupSafe>=2.1.1 in /home/vanina/.pyenv/versions/3.10.6/envs/fashion-test/lib/python3.10/site-packages (from werkzeug>=1.0.1->tensorboard~=2.19.0->tensorflow) (3.0.2)\n",
      "Requirement already satisfied: markdown-it-py>=2.2.0 in /home/vanina/.pyenv/versions/3.10.6/envs/fashion-test/lib/python3.10/site-packages (from rich->keras>=3.5.0->tensorflow) (3.0.0)\n",
      "Requirement already satisfied: pygments<3.0.0,>=2.13.0 in /home/vanina/.pyenv/versions/3.10.6/envs/fashion-test/lib/python3.10/site-packages (from rich->keras>=3.5.0->tensorflow) (2.19.1)\n",
      "Requirement already satisfied: mdurl~=0.1 in /home/vanina/.pyenv/versions/3.10.6/envs/fashion-test/lib/python3.10/site-packages (from markdown-it-py>=2.2.0->rich->keras>=3.5.0->tensorflow) (0.1.2)\n",
      "Note: you may need to restart the kernel to use updated packages.\n"
     ]
    }
   ],
   "source": [
    "pip install tensorflow"
   ]
  },
  {
   "cell_type": "code",
   "execution_count": 2,
   "id": "45cd17ce-4557-43a6-95af-c947807222c5",
   "metadata": {},
   "outputs": [],
   "source": [
    "import numpy as np\n",
    "import pandas as pd\n",
    "import matplotlib.pyplot as plt"
   ]
  },
  {
   "cell_type": "code",
   "execution_count": 3,
   "id": "509ce232-0831-4900-a6d9-dbc4a18e3a27",
   "metadata": {
    "scrolled": true
   },
   "outputs": [
    {
     "name": "stderr",
     "output_type": "stream",
     "text": [
      "2025-04-30 13:16:57.755747: I tensorflow/core/util/port.cc:153] oneDNN custom operations are on. You may see slightly different numerical results due to floating-point round-off errors from different computation orders. To turn them off, set the environment variable `TF_ENABLE_ONEDNN_OPTS=0`.\n",
      "2025-04-30 13:16:57.771386: I external/local_xla/xla/tsl/cuda/cudart_stub.cc:32] Could not find cuda drivers on your machine, GPU will not be used.\n",
      "2025-04-30 13:16:57.860492: I external/local_xla/xla/tsl/cuda/cudart_stub.cc:32] Could not find cuda drivers on your machine, GPU will not be used.\n",
      "2025-04-30 13:16:57.934269: E external/local_xla/xla/stream_executor/cuda/cuda_fft.cc:467] Unable to register cuFFT factory: Attempting to register factory for plugin cuFFT when one has already been registered\n",
      "WARNING: All log messages before absl::InitializeLog() is called are written to STDERR\n",
      "E0000 00:00:1746019017.997237    1335 cuda_dnn.cc:8579] Unable to register cuDNN factory: Attempting to register factory for plugin cuDNN when one has already been registered\n",
      "E0000 00:00:1746019018.015425    1335 cuda_blas.cc:1407] Unable to register cuBLAS factory: Attempting to register factory for plugin cuBLAS when one has already been registered\n",
      "W0000 00:00:1746019018.155059    1335 computation_placer.cc:177] computation placer already registered. Please check linkage and avoid linking the same target more than once.\n",
      "W0000 00:00:1746019018.155095    1335 computation_placer.cc:177] computation placer already registered. Please check linkage and avoid linking the same target more than once.\n",
      "W0000 00:00:1746019018.155097    1335 computation_placer.cc:177] computation placer already registered. Please check linkage and avoid linking the same target more than once.\n",
      "W0000 00:00:1746019018.155098    1335 computation_placer.cc:177] computation placer already registered. Please check linkage and avoid linking the same target more than once.\n",
      "2025-04-30 13:16:58.172407: I tensorflow/core/platform/cpu_feature_guard.cc:210] This TensorFlow binary is optimized to use available CPU instructions in performance-critical operations.\n",
      "To enable the following instructions: AVX2 AVX512F AVX512_VNNI AVX512_BF16 FMA, in other operations, rebuild TensorFlow with the appropriate compiler flags.\n"
     ]
    }
   ],
   "source": [
    "from tensorflow import keras\n",
    "\n",
    "(x_train, y_train), (x_test, y_test) = keras.datasets.fashion_mnist.load_data()\n"
   ]
  },
  {
   "cell_type": "code",
   "execution_count": 4,
   "id": "67a4724b-130a-4587-b20e-eca4813d8417",
   "metadata": {},
   "outputs": [
    {
     "data": {
      "text/plain": [
       "(((60000, 28, 28), (60000,)), ((10000, 28, 28), (10000,)))"
      ]
     },
     "execution_count": 4,
     "metadata": {},
     "output_type": "execute_result"
    }
   ],
   "source": [
    "(x_train.shape, y_train.shape), (x_test.shape, y_test.shape)"
   ]
  },
  {
   "cell_type": "code",
   "execution_count": 5,
   "id": "ca129fba-5725-4e93-8a40-fe9474eb0b98",
   "metadata": {},
   "outputs": [
    {
     "data": {
      "image/png": "[encoded data removed]",
      "text/plain": [
       "<Figure size 640x480 with 2 Axes>"
      ]
     },
     "metadata": {},
     "output_type": "display_data"
    }
   ],
   "source": [
    "plt.subplot(1,2,1)\n",
    "plt.imshow(x_train[8], cmap=\"gray\");\n",
    "plt.subplot(1,2,2)\n",
    "plt.imshow(x_train[2], cmap=\"gray\");"
   ]
  },
  {
   "cell_type": "markdown",
   "id": "a0a5f265-8c89-4224-bf79-04ec40298086",
   "metadata": {},
   "source": [
    "### Normalizacion de data"
   ]
  },
  {
   "cell_type": "code",
   "execution_count": 6,
   "id": "7b491df4-2366-4630-98ab-559098df01c8",
   "metadata": {},
   "outputs": [],
   "source": [
    "X_train = x_train/255.\n",
    "X_test = x_test/255."
   ]
  },
  {
   "cell_type": "code",
   "execution_count": 7,
   "id": "56a93fb2-7ebd-43ec-86e7-c861d469c661",
   "metadata": {},
   "outputs": [
    {
     "name": "stdout",
     "output_type": "stream",
     "text": [
      "(60000, 28, 28)\n",
      "(10000, 28, 28)\n"
     ]
    }
   ],
   "source": [
    "print(X_train.shape)\n",
    "print(X_test.shape)"
   ]
  },
  {
   "cell_type": "code",
   "execution_count": 8,
   "id": "b560024a-4c98-450d-8ce6-a33b3d7e2a8b",
   "metadata": {},
   "outputs": [],
   "source": [
    "from tensorflow.keras.backend import expand_dims"
   ]
  },
  {
   "cell_type": "code",
   "execution_count": 9,
   "id": "160f5096-4778-4446-9485-407c70ec6455",
   "metadata": {},
   "outputs": [
    {
     "name": "stderr",
     "output_type": "stream",
     "text": [
      "2025-04-30 13:17:00.947389: E external/local_xla/xla/stream_executor/cuda/cuda_platform.cc:51] failed call to cuInit: INTERNAL: CUDA error: Failed call to cuInit: UNKNOWN ERROR (303)\n"
     ]
    }
   ],
   "source": [
    "X_train= expand_dims(X_train, axis=-1)\n",
    "X_test= expand_dims(X_test, axis=-1)"
   ]
  },
  {
   "cell_type": "code",
   "execution_count": 10,
   "id": "1f7b81de-551d-4a0c-81ac-b8737d12031a",
   "metadata": {},
   "outputs": [
    {
     "name": "stdout",
     "output_type": "stream",
     "text": [
      "(60000, 28, 28, 1)\n",
      "(10000, 28, 28, 1)\n"
     ]
    }
   ],
   "source": [
    "print(X_train.shape)\n",
    "print(X_test.shape)"
   ]
  },
  {
   "cell_type": "markdown",
   "id": "11f451a5-0e65-4fa0-927c-15f3c9cf835f",
   "metadata": {},
   "source": [
    "### Target encoding"
   ]
  },
  {
   "cell_type": "code",
   "execution_count": 11,
   "id": "bfa902cb-3772-4438-a1a4-808c564b1dcc",
   "metadata": {},
   "outputs": [],
   "source": [
    "from tensorflow.keras.utils import to_categorical\n",
    "y_train_cat = to_categorical(y_train, num_classes = 10)\n",
    "y_test_cat = to_categorical(y_test, num_classes = 10)"
   ]
  },
  {
   "cell_type": "code",
   "execution_count": 12,
   "id": "e287de1a-5200-449c-8d50-605a79709c18",
   "metadata": {},
   "outputs": [
    {
     "data": {
      "text/plain": [
       "array([[0., 0., 0., ..., 0., 0., 1.],\n",
       "       [1., 0., 0., ..., 0., 0., 0.],\n",
       "       [1., 0., 0., ..., 0., 0., 0.],\n",
       "       ...,\n",
       "       [0., 0., 0., ..., 0., 0., 0.],\n",
       "       [1., 0., 0., ..., 0., 0., 0.],\n",
       "       [0., 0., 0., ..., 0., 0., 0.]])"
      ]
     },
     "execution_count": 12,
     "metadata": {},
     "output_type": "execute_result"
    }
   ],
   "source": [
    "y_train_cat"
   ]
  },
  {
   "cell_type": "markdown",
   "id": "1206ff18-a689-4751-8995-f89419dd05f4",
   "metadata": {},
   "source": [
    "y_train"
   ]
  },
  {
   "cell_type": "markdown",
   "id": "19318ed3-90e2-4f28-a743-627d9bc6b3dc",
   "metadata": {},
   "source": [
    "## Prueba de modelo Convolutional Neural Network (CNN)"
   ]
  },
  {
   "cell_type": "code",
   "execution_count": 13,
   "id": "6fe84d23-1f7e-4eaa-80bd-721f88a3ab52",
   "metadata": {},
   "outputs": [],
   "source": [
    "from tensorflow.keras import layers\n",
    "from tensorflow.keras import models"
   ]
  },
  {
   "cell_type": "code",
   "execution_count": 14,
   "id": "cc605a62-08bc-44ed-80a3-8bf4768a4b34",
   "metadata": {},
   "outputs": [],
   "source": [
    "def initialize_model():\n",
    "\n",
    "    model = models.Sequential()\n",
    "\n",
    "    model.add(layers.Conv2D(16, (4,4), input_shape =(28, 28, 1), activation = 'relu', padding='same'))\n",
    "    model.add(layers.MaxPool2D(pool_size = (2,2)))\n",
    "    model.add(layers.Conv2D(32, (3,3), activation = 'relu'))\n",
    "    model.add(layers.MaxPool2D(pool_size = (2,2)))\n",
    "    model.add(layers.Conv2D(32, (3,3), activation = 'relu'))\n",
    "    model.add(layers.MaxPool2D(pool_size = (2,2)))\n",
    "\n",
    "    model.add(layers.Flatten())\n",
    "\n",
    "    model.add(layers.Dense(10, activation = 'relu'))\n",
    "\n",
    "    model.add(layers.Dense(10, activation = 'softmax'))\n",
    "\n",
    "    ### Model compilation\n",
    "    model.compile(loss= 'categorical_crossentropy',\n",
    "            optimizer= 'adam',\n",
    "            metrics=['accuracy'])\n",
    "\n",
    "    return model"
   ]
  },
  {
   "cell_type": "markdown",
   "id": "3ee4c942-4559-49d9-a52f-65b8d3b6da5a",
   "metadata": {},
   "source": [
    "### Training model"
   ]
  },
  {
   "cell_type": "code",
   "execution_count": 15,
   "id": "b98f90dd-edba-4142-a3b8-adfa8b725fb5",
   "metadata": {},
   "outputs": [
    {
     "name": "stderr",
     "output_type": "stream",
     "text": [
      "/home/vanina/.pyenv/versions/3.10.6/envs/fashion-test/lib/python3.10/site-packages/keras/src/layers/convolutional/base_conv.py:107: UserWarning: Do not pass an `input_shape`/`input_dim` argument to a layer. When using Sequential models, prefer using an `Input(shape)` object as the first layer in the model instead.\n",
      "  super().__init__(activity_regularizer=activity_regularizer, **kwargs)\n"
     ]
    },
    {
     "data": {
      "text/plain": [
       "<keras.src.callbacks.history.History at 0x7fa7c13f1ff0>"
      ]
     },
     "execution_count": 15,
     "metadata": {},
     "output_type": "execute_result"
    }
   ],
   "source": [
    "from tensorflow.keras.callbacks import EarlyStopping\n",
    "\n",
    "model = initialize_model()\n",
    "\n",
    "es = EarlyStopping(patience=10, restore_best_weights=True)\n",
    "\n",
    "model.fit(X_train, y_train_cat,\n",
    "          batch_size=32,\n",
    "          epochs=5,\n",
    "          validation_split=0.3,\n",
    "          callbacks=[es],\n",
    "          verbose=0)"
   ]
  },
  {
   "cell_type": "markdown",
   "id": "e9e58388-d754-4dc6-8e45-f9c4cdabf8ee",
   "metadata": {},
   "source": [
    "### Evaluation"
   ]
  },
  {
   "cell_type": "code",
   "execution_count": 16,
   "id": "b5f3dac9-abdd-4dd5-8f57-3367a9a0d131",
   "metadata": {},
   "outputs": [
    {
     "name": "stdout",
     "output_type": "stream",
     "text": [
      "\u001b[1m313/313\u001b[0m \u001b[32m━━━━━━━━━━━━━━━━━━━━\u001b[0m\u001b[37m\u001b[0m \u001b[1m1s\u001b[0m 2ms/step - accuracy: 0.8771 - loss: 0.3481\n"
     ]
    },
    {
     "data": {
      "text/plain": [
       "[0.3421008884906769, 0.8747000098228455]"
      ]
     },
     "execution_count": 16,
     "metadata": {},
     "output_type": "execute_result"
    }
   ],
   "source": [
    "model.evaluate(X_test, y_test_cat)"
   ]
  },
  {
   "cell_type": "markdown",
   "id": "0fec2732-d64a-414f-82e1-38866b050ae0",
   "metadata": {},
   "source": [
    "### Predict"
   ]
  },
  {
   "cell_type": "code",
   "execution_count": 17,
   "id": "c9c9ddaa-94ce-4079-af5e-3e5031090d00",
   "metadata": {},
   "outputs": [
    {
     "name": "stdout",
     "output_type": "stream",
     "text": [
      "\u001b[1m313/313\u001b[0m \u001b[32m━━━━━━━━━━━━━━━━━━━━\u001b[0m\u001b[37m\u001b[0m \u001b[1m0s\u001b[0m 1ms/step\n"
     ]
    }
   ],
   "source": [
    "predictions= model.predict(X_test)"
   ]
  },
  {
   "cell_type": "code",
   "execution_count": 18,
   "id": "346767d5-9e97-472c-a9fe-e8ba50c0d92c",
   "metadata": {},
   "outputs": [
    {
     "data": {
      "text/plain": [
       "array([[9.95482026e-08, 7.92021069e-07, 1.07818096e-07, ...,\n",
       "        3.94766852e-02, 7.12381006e-05, 9.52913165e-01],\n",
       "       [1.01058438e-04, 6.92317648e-10, 9.95697141e-01, ...,\n",
       "        1.59701613e-10, 1.95417761e-05, 1.68708585e-08],\n",
       "       [1.97298255e-06, 9.99940038e-01, 8.03418609e-10, ...,\n",
       "        1.45249079e-09, 2.52682675e-09, 1.56341335e-12],\n",
       "       ...,\n",
       "       [2.34237430e-03, 1.61765055e-08, 4.65523655e-04, ...,\n",
       "        4.66073793e-08, 9.92296398e-01, 3.36206896e-10],\n",
       "       [2.11008210e-05, 9.98371899e-01, 2.29858497e-08, ...,\n",
       "        7.60946084e-10, 7.41033013e-09, 1.89932683e-12],\n",
       "       [1.10274658e-03, 4.92210616e-04, 2.75849045e-04, ...,\n",
       "        2.61590749e-01, 5.33228040e-01, 5.98362833e-03]], dtype=float32)"
      ]
     },
     "execution_count": 18,
     "metadata": {},
     "output_type": "execute_result"
    }
   ],
   "source": [
    "predictions"
   ]
  },
  {
   "cell_type": "code",
   "execution_count": 19,
   "id": "b207b178-1a2f-4909-8dd8-3857e0663a21",
   "metadata": {},
   "outputs": [
    {
     "name": "stdout",
     "output_type": "stream",
     "text": [
      "[9 2 1 ... 8 1 8]\n"
     ]
    }
   ],
   "source": [
    "predict_classes = np.argmax(predictions, axis=1)\n",
    "\n",
    "print(predict_classes)"
   ]
  },
  {
   "cell_type": "markdown",
   "id": "424513bd-f05a-4e9f-bd37-80a0bd80a979",
   "metadata": {},
   "source": [
    "convertir en dataframe para subir como csv"
   ]
  },
  {
   "cell_type": "code",
   "execution_count": 20,
   "id": "ff708dd7-0b16-4d1e-b2e1-f65b7f6032e5",
   "metadata": {},
   "outputs": [
    {
     "data": {
      "text/plain": [
       "numpy.ndarray"
      ]
     },
     "execution_count": 20,
     "metadata": {},
     "output_type": "execute_result"
    }
   ],
   "source": [
    "type(y_test)"
   ]
  },
  {
   "cell_type": "code",
   "execution_count": 21,
   "id": "08c506f3-6cb6-4066-9c0c-263571375a2e",
   "metadata": {},
   "outputs": [
    {
     "name": "stdout",
     "output_type": "stream",
     "text": [
      "[9 2 1 ... 8 1 5]\n"
     ]
    }
   ],
   "source": [
    "print(y_test)"
   ]
  },
  {
   "cell_type": "markdown",
   "id": "e24da158-4231-48c5-8f57-fc58ab2ca3c6",
   "metadata": {},
   "source": [
    "### Creacion del dataframe para subbmission"
   ]
  },
  {
   "cell_type": "code",
   "execution_count": 33,
   "id": "88c3ef43-caca-4164-ab04-36cd6aefdcdf",
   "metadata": {},
   "outputs": [],
   "source": [
    "indices = np.arange(60001, 70001, 1)"
   ]
  },
  {
   "cell_type": "code",
   "execution_count": 34,
   "id": "c21ec1f3-1a49-4726-899f-4576fc9aa863",
   "metadata": {},
   "outputs": [
    {
     "data": {
      "text/plain": [
       "array([60001, 60002, 60003, ..., 69998, 69999, 70000])"
      ]
     },
     "execution_count": 34,
     "metadata": {},
     "output_type": "execute_result"
    }
   ],
   "source": [
    "indices"
   ]
  },
  {
   "cell_type": "code",
   "execution_count": 37,
   "id": "c7537c93-8c3a-425a-ab75-551d1e620858",
   "metadata": {},
   "outputs": [],
   "source": [
    "df = pd.DataFrame({\n",
    "    'id': indices,\n",
    "    'label': predict_classes\n",
    "})\n",
    "\n",
    "# Guardar a CSV\n",
    "df.to_csv('predicciones_fashionmnist.csv', index=False)"
   ]
  },
  {
   "cell_type": "code",
   "execution_count": 38,
   "id": "a5497fd2-d15f-4104-a78d-2a91e28689a1",
   "metadata": {},
   "outputs": [
    {
     "data": {
      "text/html": [
       "<div>\n",
       "<style scoped>\n",
       "    .dataframe tbody tr th:only-of-type {\n",
       "        vertical-align: middle;\n",
       "    }\n",
       "\n",
       "    .dataframe tbody tr th {\n",
       "        vertical-align: top;\n",
       "    }\n",
       "\n",
       "    .dataframe thead th {\n",
       "        text-align: right;\n",
       "    }\n",
       "</style>\n",
       "<table border=\"1\" class=\"dataframe\">\n",
       "  <thead>\n",
       "    <tr style=\"text-align: right;\">\n",
       "      <th></th>\n",
       "      <th>id</th>\n",
       "      <th>label</th>\n",
       "    </tr>\n",
       "  </thead>\n",
       "  <tbody>\n",
       "    <tr>\n",
       "      <th>0</th>\n",
       "      <td>60001</td>\n",
       "      <td>9</td>\n",
       "    </tr>\n",
       "    <tr>\n",
       "      <th>1</th>\n",
       "      <td>60002</td>\n",
       "      <td>2</td>\n",
       "    </tr>\n",
       "    <tr>\n",
       "      <th>2</th>\n",
       "      <td>60003</td>\n",
       "      <td>1</td>\n",
       "    </tr>\n",
       "    <tr>\n",
       "      <th>3</th>\n",
       "      <td>60004</td>\n",
       "      <td>1</td>\n",
       "    </tr>\n",
       "    <tr>\n",
       "      <th>4</th>\n",
       "      <td>60005</td>\n",
       "      <td>6</td>\n",
       "    </tr>\n",
       "    <tr>\n",
       "      <th>...</th>\n",
       "      <td>...</td>\n",
       "      <td>...</td>\n",
       "    </tr>\n",
       "    <tr>\n",
       "      <th>9995</th>\n",
       "      <td>69996</td>\n",
       "      <td>9</td>\n",
       "    </tr>\n",
       "    <tr>\n",
       "      <th>9996</th>\n",
       "      <td>69997</td>\n",
       "      <td>1</td>\n",
       "    </tr>\n",
       "    <tr>\n",
       "      <th>9997</th>\n",
       "      <td>69998</td>\n",
       "      <td>8</td>\n",
       "    </tr>\n",
       "    <tr>\n",
       "      <th>9998</th>\n",
       "      <td>69999</td>\n",
       "      <td>1</td>\n",
       "    </tr>\n",
       "    <tr>\n",
       "      <th>9999</th>\n",
       "      <td>70000</td>\n",
       "      <td>8</td>\n",
       "    </tr>\n",
       "  </tbody>\n",
       "</table>\n",
       "<p>10000 rows × 2 columns</p>\n",
       "</div>"
      ],
      "text/plain": [
       "         id  label\n",
       "0     60001      9\n",
       "1     60002      2\n",
       "2     60003      1\n",
       "3     60004      1\n",
       "4     60005      6\n",
       "...     ...    ...\n",
       "9995  69996      9\n",
       "9996  69997      1\n",
       "9997  69998      8\n",
       "9998  69999      1\n",
       "9999  70000      8\n",
       "\n",
       "[10000 rows x 2 columns]"
      ]
     },
     "execution_count": 38,
     "metadata": {},
     "output_type": "execute_result"
    }
   ],
   "source": [
    "df"
   ]
  },
  {
   "cell_type": "code",
   "execution_count": null,
   "id": "fcfd3ff1-89a2-46e4-bb44-22dc91e0de58",
   "metadata": {},
   "outputs": [],
   "source": []
  }
 ],
 "metadata": {
  "kernelspec": {
   "display_name": "Python 3 (ipykernel)",
   "language": "python",
   "name": "python3"
  },
  "language_info": {
   "codemirror_mode": {
    "name": "ipython",
    "version": 3
   },
   "file_extension": ".py",
   "mimetype": "text/x-python",
   "name": "python",
   "nbconvert_exporter": "python",
   "pygments_lexer": "ipython3",
   "version": "3.10.6"
  }
 },
 "nbformat": 4,
 "nbformat_minor": 5
}
